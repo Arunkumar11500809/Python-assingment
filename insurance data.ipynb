{
 "cells": [
  {
   "cell_type": "code",
   "execution_count": 22,
   "metadata": {},
   "outputs": [],
   "source": [
    "import numpy as np\n",
    "import pandas as pd"
   ]
  },
  {
   "cell_type": "code",
   "execution_count": 165,
   "metadata": {},
   "outputs": [
    {
     "data": {
      "text/html": [
       "<div>\n",
       "<style scoped>\n",
       "    .dataframe tbody tr th:only-of-type {\n",
       "        vertical-align: middle;\n",
       "    }\n",
       "\n",
       "    .dataframe tbody tr th {\n",
       "        vertical-align: top;\n",
       "    }\n",
       "\n",
       "    .dataframe thead th {\n",
       "        text-align: right;\n",
       "    }\n",
       "</style>\n",
       "<table border=\"1\" class=\"dataframe\">\n",
       "  <thead>\n",
       "    <tr style=\"text-align: right;\">\n",
       "      <th></th>\n",
       "      <th>age</th>\n",
       "      <th>sex</th>\n",
       "      <th>bmi</th>\n",
       "      <th>children</th>\n",
       "      <th>smoker</th>\n",
       "      <th>region</th>\n",
       "      <th>charges</th>\n",
       "    </tr>\n",
       "  </thead>\n",
       "  <tbody>\n",
       "    <tr>\n",
       "      <th>0</th>\n",
       "      <td>19</td>\n",
       "      <td>female</td>\n",
       "      <td>27.900</td>\n",
       "      <td>0</td>\n",
       "      <td>yes</td>\n",
       "      <td>southwest</td>\n",
       "      <td>16884.92400</td>\n",
       "    </tr>\n",
       "    <tr>\n",
       "      <th>1</th>\n",
       "      <td>18</td>\n",
       "      <td>male</td>\n",
       "      <td>33.770</td>\n",
       "      <td>1</td>\n",
       "      <td>no</td>\n",
       "      <td>southeast</td>\n",
       "      <td>1725.55230</td>\n",
       "    </tr>\n",
       "    <tr>\n",
       "      <th>2</th>\n",
       "      <td>28</td>\n",
       "      <td>male</td>\n",
       "      <td>33.000</td>\n",
       "      <td>3</td>\n",
       "      <td>no</td>\n",
       "      <td>southeast</td>\n",
       "      <td>4449.46200</td>\n",
       "    </tr>\n",
       "    <tr>\n",
       "      <th>3</th>\n",
       "      <td>33</td>\n",
       "      <td>male</td>\n",
       "      <td>22.705</td>\n",
       "      <td>0</td>\n",
       "      <td>no</td>\n",
       "      <td>northwest</td>\n",
       "      <td>21984.47061</td>\n",
       "    </tr>\n",
       "    <tr>\n",
       "      <th>4</th>\n",
       "      <td>32</td>\n",
       "      <td>male</td>\n",
       "      <td>28.880</td>\n",
       "      <td>0</td>\n",
       "      <td>no</td>\n",
       "      <td>northwest</td>\n",
       "      <td>3866.85520</td>\n",
       "    </tr>\n",
       "  </tbody>\n",
       "</table>\n",
       "</div>"
      ],
      "text/plain": [
       "   age     sex     bmi  children smoker     region      charges\n",
       "0   19  female  27.900         0    yes  southwest  16884.92400\n",
       "1   18    male  33.770         1     no  southeast   1725.55230\n",
       "2   28    male  33.000         3     no  southeast   4449.46200\n",
       "3   33    male  22.705         0     no  northwest  21984.47061\n",
       "4   32    male  28.880         0     no  northwest   3866.85520"
      ]
     },
     "execution_count": 165,
     "metadata": {},
     "output_type": "execute_result"
    }
   ],
   "source": [
    "#Extracting the data\n",
    "a=pd.read_csv(\"C:/Users/hp/Desktop/insurance data/insurance_data.csv\")\n",
    "a.head()\n"
   ]
  },
  {
   "cell_type": "code",
   "execution_count": 166,
   "metadata": {},
   "outputs": [
    {
     "data": {
      "text/plain": [
       "age         0\n",
       "sex         0\n",
       "bmi         0\n",
       "children    0\n",
       "smoker      0\n",
       "region      0\n",
       "charges     0\n",
       "dtype: int64"
      ]
     },
     "execution_count": 166,
     "metadata": {},
     "output_type": "execute_result"
    }
   ],
   "source": [
    "#finding where it is null values or not\n",
    "a.isnull().sum()"
   ]
  },
  {
   "cell_type": "code",
   "execution_count": 167,
   "metadata": {},
   "outputs": [],
   "source": [
    "#for visuallization,representing the data by using stats\n",
    "import matplotlib.pyplot as plt\n",
    "import seaborn as sns\n",
    "%matplotlib inline\n"
   ]
  },
  {
   "cell_type": "code",
   "execution_count": null,
   "metadata": {},
   "outputs": [],
   "source": []
  },
  {
   "cell_type": "code",
   "execution_count": 168,
   "metadata": {},
   "outputs": [
    {
     "name": "stderr",
     "output_type": "stream",
     "text": [
      "C:\\ProgramData\\Anaconda3\\lib\\site-packages\\seaborn\\categorical.py:3669: UserWarning: The `factorplot` function has been renamed to `catplot`. The original name will be removed in a future release. Please update your code. Note that the default `kind` in `factorplot` (`'point'`) has changed `'strip'` in `catplot`.\n",
      "  warnings.warn(msg)\n"
     ]
    },
    {
     "data": {
      "text/plain": [
       "<seaborn.axisgrid.FacetGrid at 0x10d39470>"
      ]
     },
     "execution_count": 168,
     "metadata": {},
     "output_type": "execute_result"
    },
    {
     "data": {
      "image/png": "[encoded data removed]",
      "text/plain": [
       "<Figure size 413.25x360 with 1 Axes>"
      ]
     },
     "metadata": {
      "needs_background": "light"
     },
     "output_type": "display_data"
    }
   ],
   "source": [
    "sns.factorplot(x='sex',data=a,kind='count',hue='smoker')"
   ]
  },
  {
   "cell_type": "code",
   "execution_count": null,
   "metadata": {},
   "outputs": [],
   "source": []
  },
  {
   "cell_type": "code",
   "execution_count": 172,
   "metadata": {},
   "outputs": [
    {
     "data": {
      "text/plain": [
       "<matplotlib.axes._subplots.AxesSubplot at 0x10dfc290>"
      ]
     },
     "execution_count": 172,
     "metadata": {},
     "output_type": "execute_result"
    },
    {
     "data": {
      "image/png": "[encoded data removed]",
      "text/plain": [
       "<Figure size 432x288 with 1 Axes>"
      ]
     },
     "metadata": {
      "needs_background": "light"
     },
     "output_type": "display_data"
    }
   ],
   "source": [
    "sns.scatterplot(x='age',y='bmi',data=a)"
   ]
  },
  {
   "cell_type": "code",
   "execution_count": null,
   "metadata": {},
   "outputs": [],
   "source": []
  },
  {
   "cell_type": "code",
   "execution_count": 97,
   "metadata": {},
   "outputs": [
    {
     "data": {
      "text/plain": [
       "<seaborn.axisgrid.JointGrid at 0x10a6ba90>"
      ]
     },
     "execution_count": 97,
     "metadata": {},
     "output_type": "execute_result"
    },
    {
     "data": {
      "image/png": "[encoded data removed]",
      "text/plain": [
       "<Figure size 432x432 with 3 Axes>"
      ]
     },
     "metadata": {
      "needs_background": "light"
     },
     "output_type": "display_data"
    }
   ],
   "source": [
    "sns.jointplot(x=\"age\",y=\"charges\",data=a,kind=\"scatter\")"
   ]
  },
  {
   "cell_type": "code",
   "execution_count": 57,
   "metadata": {},
   "outputs": [
    {
     "data": {
      "image/png": "[encoded data removed]",
      "text/plain": [
       "<Figure size 1440x432 with 1 Axes>"
      ]
     },
     "metadata": {
      "needs_background": "light"
     },
     "output_type": "display_data"
    }
   ],
   "source": [
    "plt.figure(figsize=(20,6))\n",
    "plt.bar(a.bmi,a.charges,color=\"black\")\n",
    "plt.show()"
   ]
  },
  {
   "cell_type": "code",
   "execution_count": 58,
   "metadata": {},
   "outputs": [
    {
     "data": {
      "text/plain": [
       "<matplotlib.axes._subplots.AxesSubplot at 0xc190410>"
      ]
     },
     "execution_count": 58,
     "metadata": {},
     "output_type": "execute_result"
    },
    {
     "data": {
      "image/png": "[encoded data removed]",
      "text/plain": [
       "<Figure size 1440x432 with 1 Axes>"
      ]
     },
     "metadata": {
      "needs_background": "light"
     },
     "output_type": "display_data"
    }
   ],
   "source": [
    "plt.figure(figsize=(20,6))\n",
    "sns.boxplot(x=\"age\",y=\"charges\",hue=\"sex\",data=a)\n",
    "\n",
    "#here we see outliers in dataset so,we solve this problem by using outliers"
   ]
  },
  {
   "cell_type": "code",
   "execution_count": 59,
   "metadata": {},
   "outputs": [],
   "source": [
    "#ouliers\n",
    "\n",
    "outliers=[]\n",
    "def detect_outliers(data):\n",
    "    threshold=3\n",
    "    mean=np.mean(data)\n",
    "    std=np.std(data)\n",
    "    \n",
    "    for x in data:\n",
    "        z_score=(x-mean)/std\n",
    "        if np.abs(z_score)>threshold:\n",
    "            outliers.append(x)\n",
    "       \n",
    "    return outliers\n",
    "\n"
   ]
  },
  {
   "cell_type": "code",
   "execution_count": 60,
   "metadata": {},
   "outputs": [
    {
     "data": {
      "text/plain": [
       "[51194.55914,\n",
       " 63770.42801,\n",
       " 58571.074479999996,\n",
       " 55135.402089999996,\n",
       " 52590.82939,\n",
       " 60021.39897,\n",
       " 62592.87309]"
      ]
     },
     "execution_count": 60,
     "metadata": {},
     "output_type": "execute_result"
    }
   ],
   "source": [
    "x=detect_outliers(a[\"charges\"])\n",
    "x"
   ]
  },
  {
   "cell_type": "code",
   "execution_count": 61,
   "metadata": {},
   "outputs": [
    {
     "data": {
      "text/html": [
       "<div>\n",
       "<style scoped>\n",
       "    .dataframe tbody tr th:only-of-type {\n",
       "        vertical-align: middle;\n",
       "    }\n",
       "\n",
       "    .dataframe tbody tr th {\n",
       "        vertical-align: top;\n",
       "    }\n",
       "\n",
       "    .dataframe thead th {\n",
       "        text-align: right;\n",
       "    }\n",
       "</style>\n",
       "<table border=\"1\" class=\"dataframe\">\n",
       "  <thead>\n",
       "    <tr style=\"text-align: right;\">\n",
       "      <th></th>\n",
       "      <th>age</th>\n",
       "      <th>bmi</th>\n",
       "      <th>children</th>\n",
       "      <th>charges</th>\n",
       "    </tr>\n",
       "  </thead>\n",
       "  <tbody>\n",
       "    <tr>\n",
       "      <th>age</th>\n",
       "      <td>1.000000</td>\n",
       "      <td>0.109272</td>\n",
       "      <td>0.042469</td>\n",
       "      <td>0.299008</td>\n",
       "    </tr>\n",
       "    <tr>\n",
       "      <th>bmi</th>\n",
       "      <td>0.109272</td>\n",
       "      <td>1.000000</td>\n",
       "      <td>0.012759</td>\n",
       "      <td>0.198341</td>\n",
       "    </tr>\n",
       "    <tr>\n",
       "      <th>children</th>\n",
       "      <td>0.042469</td>\n",
       "      <td>0.012759</td>\n",
       "      <td>1.000000</td>\n",
       "      <td>0.067998</td>\n",
       "    </tr>\n",
       "    <tr>\n",
       "      <th>charges</th>\n",
       "      <td>0.299008</td>\n",
       "      <td>0.198341</td>\n",
       "      <td>0.067998</td>\n",
       "      <td>1.000000</td>\n",
       "    </tr>\n",
       "  </tbody>\n",
       "</table>\n",
       "</div>"
      ],
      "text/plain": [
       "               age       bmi  children   charges\n",
       "age       1.000000  0.109272  0.042469  0.299008\n",
       "bmi       0.109272  1.000000  0.012759  0.198341\n",
       "children  0.042469  0.012759  1.000000  0.067998\n",
       "charges   0.299008  0.198341  0.067998  1.000000"
      ]
     },
     "execution_count": 61,
     "metadata": {},
     "output_type": "execute_result"
    }
   ],
   "source": [
    "#finding the co-relation between the dataset\n",
    "a.corr()"
   ]
  },
  {
   "cell_type": "code",
   "execution_count": 62,
   "metadata": {},
   "outputs": [
    {
     "data": {
      "text/plain": [
       "<matplotlib.axes._subplots.AxesSubplot at 0xc13de50>"
      ]
     },
     "execution_count": 62,
     "metadata": {},
     "output_type": "execute_result"
    },
    {
     "data": {
      "image/png": "[encoded data removed]",
      "text/plain": [
       "<Figure size 432x288 with 2 Axes>"
      ]
     },
     "metadata": {
      "needs_background": "light"
     },
     "output_type": "display_data"
    }
   ],
   "source": [
    "\n",
    "sns.heatmap(a.corr(),cmap=\"rainbow\",annot=True)"
   ]
  },
  {
   "cell_type": "code",
   "execution_count": 176,
   "metadata": {},
   "outputs": [
    {
     "data": {
      "text/html": [
       "<div>\n",
       "<style scoped>\n",
       "    .dataframe tbody tr th:only-of-type {\n",
       "        vertical-align: middle;\n",
       "    }\n",
       "\n",
       "    .dataframe tbody tr th {\n",
       "        vertical-align: top;\n",
       "    }\n",
       "\n",
       "    .dataframe thead th {\n",
       "        text-align: right;\n",
       "    }\n",
       "</style>\n",
       "<table border=\"1\" class=\"dataframe\">\n",
       "  <thead>\n",
       "    <tr style=\"text-align: right;\">\n",
       "      <th></th>\n",
       "      <th>age</th>\n",
       "      <th>sex</th>\n",
       "      <th>bmi</th>\n",
       "      <th>children</th>\n",
       "      <th>smoker</th>\n",
       "      <th>region</th>\n",
       "      <th>charges</th>\n",
       "    </tr>\n",
       "  </thead>\n",
       "  <tbody>\n",
       "    <tr>\n",
       "      <th>1333</th>\n",
       "      <td>50</td>\n",
       "      <td>1</td>\n",
       "      <td>30.97</td>\n",
       "      <td>3</td>\n",
       "      <td>0</td>\n",
       "      <td>1</td>\n",
       "      <td>10600.5483</td>\n",
       "    </tr>\n",
       "    <tr>\n",
       "      <th>1334</th>\n",
       "      <td>18</td>\n",
       "      <td>0</td>\n",
       "      <td>31.92</td>\n",
       "      <td>0</td>\n",
       "      <td>0</td>\n",
       "      <td>0</td>\n",
       "      <td>2205.9808</td>\n",
       "    </tr>\n",
       "    <tr>\n",
       "      <th>1335</th>\n",
       "      <td>18</td>\n",
       "      <td>0</td>\n",
       "      <td>36.85</td>\n",
       "      <td>0</td>\n",
       "      <td>0</td>\n",
       "      <td>2</td>\n",
       "      <td>1629.8335</td>\n",
       "    </tr>\n",
       "    <tr>\n",
       "      <th>1336</th>\n",
       "      <td>21</td>\n",
       "      <td>0</td>\n",
       "      <td>25.80</td>\n",
       "      <td>0</td>\n",
       "      <td>0</td>\n",
       "      <td>3</td>\n",
       "      <td>2007.9450</td>\n",
       "    </tr>\n",
       "    <tr>\n",
       "      <th>1337</th>\n",
       "      <td>61</td>\n",
       "      <td>0</td>\n",
       "      <td>29.07</td>\n",
       "      <td>0</td>\n",
       "      <td>1</td>\n",
       "      <td>1</td>\n",
       "      <td>29141.3603</td>\n",
       "    </tr>\n",
       "  </tbody>\n",
       "</table>\n",
       "</div>"
      ],
      "text/plain": [
       "      age  sex    bmi  children  smoker  region     charges\n",
       "1333   50    1  30.97         3       0       1  10600.5483\n",
       "1334   18    0  31.92         0       0       0   2205.9808\n",
       "1335   18    0  36.85         0       0       2   1629.8335\n",
       "1336   21    0  25.80         0       0       3   2007.9450\n",
       "1337   61    0  29.07         0       1       1  29141.3603"
      ]
     },
     "execution_count": 176,
     "metadata": {},
     "output_type": "execute_result"
    }
   ],
   "source": [
    "#now before doing modelling part fist we convert our dataset into the integer variable\n",
    "#by using dummies or label encoder\n",
    "\n",
    "from sklearn.preprocessing import LabelEncoder\n",
    "le=LabelEncoder()\n",
    "a[\"sex\"]=le.fit_transform(a[\"sex\"])\n",
    "\n",
    "a[\"region\"]=le.fit_transform(a[\"region\"])\n",
    "\n",
    "a[\"smoker\"]=le.fit_transform(a[\"smoker\"])\n",
    "a.tail()"
   ]
  },
  {
   "cell_type": "code",
   "execution_count": 177,
   "metadata": {},
   "outputs": [],
   "source": [
    "#modeling part\n",
    "x=a.iloc[:,[0,1,2,3,4,5]]\n",
    "y=a.iloc[:,[6]]\n",
    "\n",
    "from sklearn.model_selection import train_test_split\n",
    "x_train,x_test,y_train,y_test=train_test_split(x,y,test_size=0.2,random_state = 100)"
   ]
  },
  {
   "cell_type": "code",
   "execution_count": 178,
   "metadata": {},
   "outputs": [],
   "source": [
    "#for pre processing\n",
    "from sklearn.preprocessing import StandardScaler\n",
    "mn=StandardScaler()\n",
    "x_train=mn.fit_transform(x_train)\n",
    "x_test=mn.fit_transform(x_test)"
   ]
  },
  {
   "cell_type": "code",
   "execution_count": null,
   "metadata": {},
   "outputs": [],
   "source": []
  },
  {
   "cell_type": "code",
   "execution_count": 179,
   "metadata": {},
   "outputs": [
    {
     "data": {
      "text/plain": [
       "LinearRegression(copy_X=True, fit_intercept=True, n_jobs=None, normalize=False)"
      ]
     },
     "execution_count": 179,
     "metadata": {},
     "output_type": "execute_result"
    }
   ],
   "source": [
    "#linear regression\n",
    "from sklearn.linear_model import LinearRegression\n",
    "lr=LinearRegression()\n",
    "lr.fit(x_train,y_train)"
   ]
  },
  {
   "cell_type": "code",
   "execution_count": 180,
   "metadata": {},
   "outputs": [
    {
     "data": {
      "text/plain": [
       "array([[ 3644.93951003],\n",
       "       [ 3617.88612878],\n",
       "       [ 7815.5156805 ],\n",
       "       [ 2240.97539578],\n",
       "       [22445.27071267],\n",
       "       [35351.91900215],\n",
       "       [14811.95829541],\n",
       "       [ 2300.47980026],\n",
       "       [26928.62482255],\n",
       "       [15894.05913223],\n",
       "       [15187.71903431],\n",
       "       [ 4281.40970435],\n",
       "       [11044.90222136],\n",
       "       [ 4060.80011688],\n",
       "       [ 8629.95579472],\n",
       "       [29335.81469709],\n",
       "       [11299.25847281],\n",
       "       [12031.7934823 ],\n",
       "       [ 6042.47043376],\n",
       "       [18196.91586687],\n",
       "       [13876.60391224],\n",
       "       [ 2031.94446877],\n",
       "       [ 6053.25458176],\n",
       "       [29597.60943999],\n",
       "       [13531.21234448],\n",
       "       [30581.8554775 ],\n",
       "       [ 6446.05836723],\n",
       "       [38080.21829997],\n",
       "       [29509.95400944],\n",
       "       [13017.12241438],\n",
       "       [18052.76506617],\n",
       "       [ 2116.16056633],\n",
       "       [37667.05436769],\n",
       "       [24582.46987553],\n",
       "       [ 7636.22848709],\n",
       "       [11426.44595867],\n",
       "       [ 7789.41614825],\n",
       "       [30936.59074135],\n",
       "       [ 3730.8583075 ],\n",
       "       [36118.48552241],\n",
       "       [ 6913.35875955],\n",
       "       [12559.1042326 ],\n",
       "       [ 4851.46070183],\n",
       "       [ 7773.90283674],\n",
       "       [  371.11889488],\n",
       "       [ 4638.44872391],\n",
       "       [ 4780.99857455],\n",
       "       [ 3379.71673923],\n",
       "       [ 1884.45197013],\n",
       "       [10714.30557043],\n",
       "       [17064.91304442],\n",
       "       [ 6562.62079389],\n",
       "       [ 4796.95102675],\n",
       "       [ 8063.50053112],\n",
       "       [ 6213.27869252],\n",
       "       [13396.12659732],\n",
       "       [12701.83620552],\n",
       "       [29408.09849607],\n",
       "       [ 7484.26205177],\n",
       "       [12155.10710371],\n",
       "       [ 2955.93011137],\n",
       "       [ 3179.77641774],\n",
       "       [ 5375.94927623],\n",
       "       [ 9652.21534819],\n",
       "       [13782.22479101],\n",
       "       [ 2331.26005784],\n",
       "       [  773.77960672],\n",
       "       [ 7430.96040788],\n",
       "       [11283.72571412],\n",
       "       [35252.69663951],\n",
       "       [ 8793.06713529],\n",
       "       [ 3885.60833692],\n",
       "       [ 9879.06665169],\n",
       "       [25475.02340296],\n",
       "       [11155.31123157],\n",
       "       [  508.50109195],\n",
       "       [10537.84834171],\n",
       "       [31300.61141566],\n",
       "       [13436.88562003],\n",
       "       [ 8042.75212299],\n",
       "       [ 2584.89853598],\n",
       "       [ 8361.64226887],\n",
       "       [ 6932.69992963],\n",
       "       [ 3653.3265512 ],\n",
       "       [28952.20082579],\n",
       "       [35334.63808933],\n",
       "       [11787.31508242],\n",
       "       [31337.14628299],\n",
       "       [26349.32162846],\n",
       "       [ 9404.42261459],\n",
       "       [24460.75124666],\n",
       "       [ 8557.68319147],\n",
       "       [ 6566.86006422],\n",
       "       [  353.74121507],\n",
       "       [29361.30986428],\n",
       "       [ 7099.37923576],\n",
       "       [12317.43918543],\n",
       "       [ 9099.22974072],\n",
       "       [26942.02867992],\n",
       "       [ 2128.27139329],\n",
       "       [ 3928.24287564],\n",
       "       [ 3884.58884819],\n",
       "       [11639.13413438],\n",
       "       [ 6685.59153953],\n",
       "       [28391.09459971],\n",
       "       [13944.64415696],\n",
       "       [25797.35034018],\n",
       "       [28365.9053708 ],\n",
       "       [16783.44025259],\n",
       "       [ 3507.90364528],\n",
       "       [12189.09926507],\n",
       "       [ 4777.47769888],\n",
       "       [10903.03097266],\n",
       "       [10720.89292876],\n",
       "       [29342.11575099],\n",
       "       [14543.69640765],\n",
       "       [ 2829.82584541],\n",
       "       [17010.66216079],\n",
       "       [10509.18767925],\n",
       "       [ 6652.52590978],\n",
       "       [28740.03979432],\n",
       "       [ 7726.75940522],\n",
       "       [13888.83167268],\n",
       "       [11488.12588029],\n",
       "       [12178.37307737],\n",
       "       [32190.32785928],\n",
       "       [12589.81919479],\n",
       "       [ 5793.03968569],\n",
       "       [ 3953.93916999],\n",
       "       [ 9891.57068214],\n",
       "       [ 3328.15268271],\n",
       "       [ 8194.43225388],\n",
       "       [ 5605.25549811],\n",
       "       [13104.71635939],\n",
       "       [ 2864.15877556],\n",
       "       [26503.00198871],\n",
       "       [ 9579.20916665],\n",
       "       [27847.77616522],\n",
       "       [ 5056.9347817 ],\n",
       "       [ 8104.93106593],\n",
       "       [27392.71454239],\n",
       "       [ 3447.49843921],\n",
       "       [24730.92818652],\n",
       "       [ 9895.34875426],\n",
       "       [ 6468.4787713 ],\n",
       "       [11708.16296827],\n",
       "       [11130.6978318 ],\n",
       "       [ 5055.09672409],\n",
       "       [12046.83815115],\n",
       "       [ 9453.87554339],\n",
       "       [10849.85008351],\n",
       "       [ 2818.86070745],\n",
       "       [ 4448.8031899 ],\n",
       "       [ 7909.03259087],\n",
       "       [10387.42097692],\n",
       "       [ 9547.53228206],\n",
       "       [29907.15513109],\n",
       "       [ 9739.02931504],\n",
       "       [10921.76534537],\n",
       "       [25572.45265022],\n",
       "       [14629.12791218],\n",
       "       [24539.27493932],\n",
       "       [29556.34652246],\n",
       "       [13665.53693169],\n",
       "       [ 4874.2517106 ],\n",
       "       [13467.3347696 ],\n",
       "       [ 1287.02825115],\n",
       "       [10147.26941753],\n",
       "       [15816.10288752],\n",
       "       [13795.28307476],\n",
       "       [36944.97388512],\n",
       "       [24835.7952352 ],\n",
       "       [ 4924.24635733],\n",
       "       [23621.11385941],\n",
       "       [ 8163.35410215],\n",
       "       [ 5909.95087697],\n",
       "       [ 3377.12072157],\n",
       "       [30878.65292037],\n",
       "       [15106.03130402],\n",
       "       [ 1702.99663405],\n",
       "       [31489.68765009],\n",
       "       [23211.09086262],\n",
       "       [28487.05655172],\n",
       "       [14425.75937613],\n",
       "       [ 3559.2195941 ],\n",
       "       [23610.05791199],\n",
       "       [26504.12049005],\n",
       "       [12912.38956179],\n",
       "       [ 6767.98244017],\n",
       "       [14920.64949076],\n",
       "       [-1895.94211425],\n",
       "       [ 9586.14550555],\n",
       "       [ 2558.04482426],\n",
       "       [ 9150.71884106],\n",
       "       [ 6588.51312448],\n",
       "       [ 6009.53656781],\n",
       "       [34617.77071454],\n",
       "       [20767.90463875],\n",
       "       [ 9403.55335327],\n",
       "       [11270.43037112],\n",
       "       [ 3523.56536185],\n",
       "       [ 6228.16115023],\n",
       "       [ 2250.65986066],\n",
       "       [ 9131.23657172],\n",
       "       [38359.62559634],\n",
       "       [35577.25415921],\n",
       "       [ 8881.65298738],\n",
       "       [33588.9469239 ],\n",
       "       [   52.69815035],\n",
       "       [29374.14122217],\n",
       "       [11000.70960722],\n",
       "       [ 4763.16173483],\n",
       "       [23610.59367239],\n",
       "       [34874.82157298],\n",
       "       [10920.53946198],\n",
       "       [ 6967.71978286],\n",
       "       [10579.37244359],\n",
       "       [ 8140.80154029],\n",
       "       [ 3418.69646154],\n",
       "       [  557.84050313],\n",
       "       [10722.70155308],\n",
       "       [15526.73037674],\n",
       "       [ 8412.7479331 ],\n",
       "       [ 7467.62856533],\n",
       "       [ 8629.62250976],\n",
       "       [37231.953573  ],\n",
       "       [ 8232.69594514],\n",
       "       [ 1116.02595507],\n",
       "       [14204.92427975],\n",
       "       [11753.90228405],\n",
       "       [ 9749.80041568],\n",
       "       [31158.01177857],\n",
       "       [35032.40657032],\n",
       "       [ 8422.31107121],\n",
       "       [ 3473.09964017],\n",
       "       [32327.46797484],\n",
       "       [ 4927.18129214],\n",
       "       [ 7797.29890061],\n",
       "       [13944.03383437],\n",
       "       [ 5876.02732029],\n",
       "       [ 6523.83510891],\n",
       "       [   69.9084202 ],\n",
       "       [ 2265.0725917 ],\n",
       "       [33487.50060595],\n",
       "       [ 4904.95177379],\n",
       "       [ 6873.86733327],\n",
       "       [ 2075.94900311],\n",
       "       [16473.92624903],\n",
       "       [ 8870.18184762],\n",
       "       [ 4847.02771949],\n",
       "       [ 5031.10691022],\n",
       "       [ 4782.33088571],\n",
       "       [ 4303.35437591],\n",
       "       [11110.24968144],\n",
       "       [14730.94483483],\n",
       "       [21975.3376412 ],\n",
       "       [ 5009.30577022],\n",
       "       [ 9525.96159315],\n",
       "       [27285.80944126],\n",
       "       [ 7173.23916967],\n",
       "       [  526.86660222],\n",
       "       [30837.85120106],\n",
       "       [ 6912.93819036],\n",
       "       [ 5939.43697181],\n",
       "       [21285.74978553],\n",
       "       [14354.60174899],\n",
       "       [ 9331.7328201 ],\n",
       "       [11144.54907241]])"
      ]
     },
     "execution_count": 180,
     "metadata": {},
     "output_type": "execute_result"
    }
   ],
   "source": [
    "pred=lr.predict(x_test)\n",
    "pred"
   ]
  },
  {
   "cell_type": "code",
   "execution_count": 182,
   "metadata": {},
   "outputs": [
    {
     "data": {
      "text/plain": [
       "78.06589273820394"
      ]
     },
     "execution_count": 182,
     "metadata": {},
     "output_type": "execute_result"
    }
   ],
   "source": [
    "from sklearn.metrics import r2_score\n",
    "r2_score(y_test,pred)*100"
   ]
  },
  {
   "cell_type": "code",
   "execution_count": null,
   "metadata": {},
   "outputs": [],
   "source": [
    "\n"
   ]
  },
  {
   "cell_type": "code",
   "execution_count": null,
   "metadata": {},
   "outputs": [],
   "source": []
  },
  {
   "cell_type": "code",
   "execution_count": null,
   "metadata": {},
   "outputs": [],
   "source": []
  }
 ],
 "metadata": {
  "kernelspec": {
   "display_name": "Python 3",
   "language": "python",
   "name": "python3"
  },
  "language_info": {
   "codemirror_mode": {
    "name": "ipython",
    "version": 3
   },
   "file_extension": ".py",
   "mimetype": "text/x-python",
   "name": "python",
   "nbconvert_exporter": "python",
   "pygments_lexer": "ipython3",
   "version": "3.7.6"
  }
 },
 "nbformat": 4,
 "nbformat_minor": 4
}
